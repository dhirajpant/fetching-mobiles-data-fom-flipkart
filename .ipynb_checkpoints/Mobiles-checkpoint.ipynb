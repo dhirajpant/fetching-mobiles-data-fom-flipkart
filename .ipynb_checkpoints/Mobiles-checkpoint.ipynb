{
 "cells": [
  {
   "cell_type": "code",
   "execution_count": 1,
   "metadata": {
    "id": "5S38hW1zfMW8"
   },
   "outputs": [],
   "source": [
    "#importing necessary libraries\n",
    "import pandas as pd\n",
    "import requests\n",
    "from bs4 import BeautifulSoup"
   ]
  },
  {
   "cell_type": "code",
   "execution_count": 35,
   "metadata": {
    "id": "MKnB3kuSl85X"
   },
   "outputs": [],
   "source": [
    "#creating empty lists for storing name,ratings,description and prices of mobile phones\n",
    "Name=[]\n",
    "Ratings=[]\n",
    "Description=[]\n",
    "Price=[]"
   ]
  },
  {
   "cell_type": "code",
   "execution_count": 36,
   "metadata": {
    "id": "8HsJbJIAfRZs"
   },
   "outputs": [],
   "source": [
    "#loop to iterate over the other pages\n",
    "for a in range(1,6):\n",
    "  url='https://www.flipkart.com/search?q=mobile+phones+under+50000&otracker=search&otracker1=search&marketplace=FLIPKART&as-show=on&as=off&page={}'.format(a)\n",
    "  abc=requests.get(url).text\n",
    "\n",
    "  Soup = BeautifulSoup(abc,'lxml')\n",
    "\n",
    "  Soup.Prettify\n",
    "\n",
    "  dc=Soup.find('div',class_='_1YokD2 _3Mn1Gg')\n",
    "  dc.Prettify\n",
    "\n",
    "  for i in dc.find_all('div',class_='_4rR01T'):\n",
    "    Name.append(i.text)\n",
    "  for i in dc.find_all('div',class_='_3LWZlK'):\n",
    "    Ratings.append(i.text)\n",
    "  for i in dc.find_all('div',class_='_30jeq3 _1_WHN1'):\n",
    "    Price.append(i.text)\n",
    "  for i in dc.find_all('ul',class_='_1xgFaf'):\n",
    "    Description.append(i.text)"
   ]
  },
  {
   "cell_type": "code",
   "execution_count": 37,
   "metadata": {
    "id": "EzbFGuLJi2rI"
   },
   "outputs": [],
   "source": [
    "#creating a dictionary\n",
    "dd={'Name':Name,'Price':Price,'Ratings':Ratings,'Description':Description}"
   ]
  },
  {
   "cell_type": "code",
   "execution_count": 39,
   "metadata": {
    "colab": {
     "base_uri": "https://localhost:8080/",
     "height": 321
    },
    "id": "8MlIlOsakpYU",
    "outputId": "e205908e-ff06-4abb-b756-8d5e2886e650"
   },
   "outputs": [],
   "source": [
    "#creating a dataframe\n",
    "dff=pd.DataFrame(dd)"
   ]
  },
  {
   "cell_type": "code",
   "execution_count": 40,
   "metadata": {
    "id": "zhn2w1PplCex"
   },
   "outputs": [
    {
     "data": {
      "text/html": [
       "<div>\n",
       "<style scoped>\n",
       "    .dataframe tbody tr th:only-of-type {\n",
       "        vertical-align: middle;\n",
       "    }\n",
       "\n",
       "    .dataframe tbody tr th {\n",
       "        vertical-align: top;\n",
       "    }\n",
       "\n",
       "    .dataframe thead th {\n",
       "        text-align: right;\n",
       "    }\n",
       "</style>\n",
       "<table border=\"1\" class=\"dataframe\">\n",
       "  <thead>\n",
       "    <tr style=\"text-align: right;\">\n",
       "      <th></th>\n",
       "      <th>Name</th>\n",
       "      <th>Price</th>\n",
       "      <th>Ratings</th>\n",
       "      <th>Description</th>\n",
       "    </tr>\n",
       "  </thead>\n",
       "  <tbody>\n",
       "    <tr>\n",
       "      <th>0</th>\n",
       "      <td>MOTOROLA Edge 30 Ultra (Interstellar Black, 25...</td>\n",
       "      <td>₹49,999</td>\n",
       "      <td>4.3</td>\n",
       "      <td>12 GB RAM | 256 GB ROM16.94 cm (6.67 inch) Ful...</td>\n",
       "    </tr>\n",
       "    <tr>\n",
       "      <th>1</th>\n",
       "      <td>OnePlus 11R 5G (Galactic Silver, 256 GB)</td>\n",
       "      <td>₹43,172</td>\n",
       "      <td>4.5</td>\n",
       "      <td>16 GB RAM | 256 GB ROM17.02 cm (6.7 inch) Disp...</td>\n",
       "    </tr>\n",
       "    <tr>\n",
       "      <th>2</th>\n",
       "      <td>MOTOROLA Edge 30 Ultra (Starlight White, 256 GB)</td>\n",
       "      <td>₹49,999</td>\n",
       "      <td>4.3</td>\n",
       "      <td>12 GB RAM | 256 GB ROM16.94 cm (6.67 inch) Ful...</td>\n",
       "    </tr>\n",
       "    <tr>\n",
       "      <th>3</th>\n",
       "      <td>Google Pixel 7 (Snow, 128 GB)</td>\n",
       "      <td>₹49,999</td>\n",
       "      <td>4.3</td>\n",
       "      <td>8 GB RAM | 128 GB ROM16.0 cm (6.3 inch) Full H...</td>\n",
       "    </tr>\n",
       "    <tr>\n",
       "      <th>4</th>\n",
       "      <td>Nothing Phone (2) (Dark Grey, 256 GB)</td>\n",
       "      <td>₹49,999</td>\n",
       "      <td>4.4</td>\n",
       "      <td>12 GB RAM | 256 GB ROM17.02 cm (6.7 inch) Full...</td>\n",
       "    </tr>\n",
       "    <tr>\n",
       "      <th>...</th>\n",
       "      <td>...</td>\n",
       "      <td>...</td>\n",
       "      <td>...</td>\n",
       "      <td>...</td>\n",
       "    </tr>\n",
       "    <tr>\n",
       "      <th>115</th>\n",
       "      <td>Xiaomi 12 Pro 5G (Opera Mauve, 256 GB)</td>\n",
       "      <td>₹44,999</td>\n",
       "      <td>4.1</td>\n",
       "      <td>12 GB RAM | 256 GB ROM17.09 cm (6.73 inch) Ful...</td>\n",
       "    </tr>\n",
       "    <tr>\n",
       "      <th>116</th>\n",
       "      <td>APPLE iPhone SE (Black, 256 GB)</td>\n",
       "      <td>₹40,990</td>\n",
       "      <td>4.5</td>\n",
       "      <td>256 GB ROM11.94 cm (4.7 inch) Retina HD Displa...</td>\n",
       "    </tr>\n",
       "    <tr>\n",
       "      <th>117</th>\n",
       "      <td>OnePlus 7T Pro Mclaren Limited Edition (Papaya...</td>\n",
       "      <td>₹44,990</td>\n",
       "      <td>4.1</td>\n",
       "      <td>12 GB RAM | 256 GB ROM16.94 cm (6.67 inch) Dis...</td>\n",
       "    </tr>\n",
       "    <tr>\n",
       "      <th>118</th>\n",
       "      <td>APPLE iPhone 11 (Red, 64 GB)</td>\n",
       "      <td>₹41,999</td>\n",
       "      <td>4.6</td>\n",
       "      <td>64 GB ROM15.49 cm (6.1 inch) Liquid Retina HD ...</td>\n",
       "    </tr>\n",
       "    <tr>\n",
       "      <th>119</th>\n",
       "      <td>OnePlus 9RT 5G (Hacker Black, 128 GB)</td>\n",
       "      <td>₹42,999</td>\n",
       "      <td>4.3</td>\n",
       "      <td>8 GB RAM | 128 GB ROM16.81 cm (6.62 inch) Disp...</td>\n",
       "    </tr>\n",
       "  </tbody>\n",
       "</table>\n",
       "<p>120 rows × 4 columns</p>\n",
       "</div>"
      ],
      "text/plain": [
       "                                                  Name    Price Ratings  \\\n",
       "0    MOTOROLA Edge 30 Ultra (Interstellar Black, 25...  ₹49,999     4.3   \n",
       "1             OnePlus 11R 5G (Galactic Silver, 256 GB)  ₹43,172     4.5   \n",
       "2     MOTOROLA Edge 30 Ultra (Starlight White, 256 GB)  ₹49,999     4.3   \n",
       "3                        Google Pixel 7 (Snow, 128 GB)  ₹49,999     4.3   \n",
       "4                Nothing Phone (2) (Dark Grey, 256 GB)  ₹49,999     4.4   \n",
       "..                                                 ...      ...     ...   \n",
       "115             Xiaomi 12 Pro 5G (Opera Mauve, 256 GB)  ₹44,999     4.1   \n",
       "116                    APPLE iPhone SE (Black, 256 GB)  ₹40,990     4.5   \n",
       "117  OnePlus 7T Pro Mclaren Limited Edition (Papaya...  ₹44,990     4.1   \n",
       "118                       APPLE iPhone 11 (Red, 64 GB)  ₹41,999     4.6   \n",
       "119              OnePlus 9RT 5G (Hacker Black, 128 GB)  ₹42,999     4.3   \n",
       "\n",
       "                                           Description  \n",
       "0    12 GB RAM | 256 GB ROM16.94 cm (6.67 inch) Ful...  \n",
       "1    16 GB RAM | 256 GB ROM17.02 cm (6.7 inch) Disp...  \n",
       "2    12 GB RAM | 256 GB ROM16.94 cm (6.67 inch) Ful...  \n",
       "3    8 GB RAM | 128 GB ROM16.0 cm (6.3 inch) Full H...  \n",
       "4    12 GB RAM | 256 GB ROM17.02 cm (6.7 inch) Full...  \n",
       "..                                                 ...  \n",
       "115  12 GB RAM | 256 GB ROM17.09 cm (6.73 inch) Ful...  \n",
       "116  256 GB ROM11.94 cm (4.7 inch) Retina HD Displa...  \n",
       "117  12 GB RAM | 256 GB ROM16.94 cm (6.67 inch) Dis...  \n",
       "118  64 GB ROM15.49 cm (6.1 inch) Liquid Retina HD ...  \n",
       "119  8 GB RAM | 128 GB ROM16.81 cm (6.62 inch) Disp...  \n",
       "\n",
       "[120 rows x 4 columns]"
      ]
     },
     "execution_count": 40,
     "metadata": {},
     "output_type": "execute_result"
    }
   ],
   "source": [
    "dff"
   ]
  },
  {
   "cell_type": "code",
   "execution_count": 41,
   "metadata": {
    "colab": {
     "base_uri": "https://localhost:8080/"
    },
    "id": "i3XlOHkZlcHg",
    "outputId": "9445026f-6720-4834-c023-31d181aa7a19"
   },
   "outputs": [],
   "source": [
    "#converting the given dataframe into csv file\n",
    "dff.to_csv('mobilephone.csv')"
   ]
  },
  {
   "cell_type": "code",
   "execution_count": null,
   "metadata": {},
   "outputs": [],
   "source": []
  }
 ],
 "metadata": {
  "colab": {
   "provenance": []
  },
  "kernelspec": {
   "display_name": "Python 3 (ipykernel)",
   "language": "python",
   "name": "python3"
  },
  "language_info": {
   "codemirror_mode": {
    "name": "ipython",
    "version": 3
   },
   "file_extension": ".py",
   "mimetype": "text/x-python",
   "name": "python",
   "nbconvert_exporter": "python",
   "pygments_lexer": "ipython3",
   "version": "3.11.5"
  }
 },
 "nbformat": 4,
 "nbformat_minor": 4
}
